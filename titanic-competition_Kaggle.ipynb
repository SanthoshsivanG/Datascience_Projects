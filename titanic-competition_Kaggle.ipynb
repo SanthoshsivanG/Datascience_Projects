{
 "cells": [
  {
   "cell_type": "code",
   "execution_count": 1,
   "id": "71865375",
   "metadata": {
    "_cell_guid": "b1076dfc-b9ad-4769-8c92-a6c4dae69d19",
    "_uuid": "8f2839f25d086af736a60e9eeb907d3b93b6e0e5",
    "execution": {
     "iopub.execute_input": "2025-02-22T01:37:39.954094Z",
     "iopub.status.busy": "2025-02-22T01:37:39.953744Z",
     "iopub.status.idle": "2025-02-22T01:37:40.959472Z",
     "shell.execute_reply": "2025-02-22T01:37:40.958279Z"
    },
    "papermill": {
     "duration": 1.015977,
     "end_time": "2025-02-22T01:37:40.961186",
     "exception": false,
     "start_time": "2025-02-22T01:37:39.945209",
     "status": "completed"
    },
    "tags": []
   },
   "outputs": [
    {
     "name": "stdout",
     "output_type": "stream",
     "text": [
      "/kaggle/input/titanic/train.csv\n",
      "/kaggle/input/titanic/test.csv\n",
      "/kaggle/input/titanic/gender_submission.csv\n"
     ]
    }
   ],
   "source": [
    "# This Python 3 environment comes with many helpful analytics libraries installed\n",
    "# It is defined by the kaggle/python Docker image: https://github.com/kaggle/docker-python\n",
    "# For example, here's several helpful packages to load\n",
    "\n",
    "import numpy as np # linear algebra\n",
    "import pandas as pd # data processing, CSV file I/O (e.g. pd.read_csv)\n",
    "\n",
    "# Input data files are available in the read-only \"../input/\" directory\n",
    "# For example, running this (by clicking run or pressing Shift+Enter) will list all files under the input directory\n",
    "\n",
    "import os\n",
    "for dirname, _, filenames in os.walk('/kaggle/input'):\n",
    "    for filename in filenames:\n",
    "        print(os.path.join(dirname, filename))\n",
    "\n",
    "# You can write up to 20GB to the current directory (/kaggle/working/) that gets preserved as output when you create a version using \"Save & Run All\" \n",
    "# You can also write temporary files to /kaggle/temp/, but they won't be saved outside of the current session"
   ]
  },
  {
   "cell_type": "code",
   "execution_count": 2,
   "id": "d72e421b",
   "metadata": {
    "execution": {
     "iopub.execute_input": "2025-02-22T01:37:40.975997Z",
     "iopub.status.busy": "2025-02-22T01:37:40.975508Z",
     "iopub.status.idle": "2025-02-22T01:37:41.005147Z",
     "shell.execute_reply": "2025-02-22T01:37:41.004216Z"
    },
    "papermill": {
     "duration": 0.039001,
     "end_time": "2025-02-22T01:37:41.007147",
     "exception": false,
     "start_time": "2025-02-22T01:37:40.968146",
     "status": "completed"
    },
    "tags": []
   },
   "outputs": [],
   "source": [
    "X_full = pd.read_csv(\"/kaggle/input/titanic/train.csv\")\n",
    "X_test = pd.read_csv(\"/kaggle/input/titanic/test.csv\")"
   ]
  },
  {
   "cell_type": "code",
   "execution_count": 3,
   "id": "13e73b3b",
   "metadata": {
    "execution": {
     "iopub.execute_input": "2025-02-22T01:37:41.022188Z",
     "iopub.status.busy": "2025-02-22T01:37:41.021860Z",
     "iopub.status.idle": "2025-02-22T01:37:41.052009Z",
     "shell.execute_reply": "2025-02-22T01:37:41.050954Z"
    },
    "papermill": {
     "duration": 0.039619,
     "end_time": "2025-02-22T01:37:41.053612",
     "exception": false,
     "start_time": "2025-02-22T01:37:41.013993",
     "status": "completed"
    },
    "tags": []
   },
   "outputs": [
    {
     "data": {
      "text/html": [
       "<div>\n",
       "<style scoped>\n",
       "    .dataframe tbody tr th:only-of-type {\n",
       "        vertical-align: middle;\n",
       "    }\n",
       "\n",
       "    .dataframe tbody tr th {\n",
       "        vertical-align: top;\n",
       "    }\n",
       "\n",
       "    .dataframe thead th {\n",
       "        text-align: right;\n",
       "    }\n",
       "</style>\n",
       "<table border=\"1\" class=\"dataframe\">\n",
       "  <thead>\n",
       "    <tr style=\"text-align: right;\">\n",
       "      <th></th>\n",
       "      <th>PassengerId</th>\n",
       "      <th>Survived</th>\n",
       "      <th>Pclass</th>\n",
       "      <th>Name</th>\n",
       "      <th>Sex</th>\n",
       "      <th>Age</th>\n",
       "      <th>SibSp</th>\n",
       "      <th>Parch</th>\n",
       "      <th>Ticket</th>\n",
       "      <th>Fare</th>\n",
       "      <th>Cabin</th>\n",
       "      <th>Embarked</th>\n",
       "    </tr>\n",
       "  </thead>\n",
       "  <tbody>\n",
       "    <tr>\n",
       "      <th>0</th>\n",
       "      <td>1</td>\n",
       "      <td>0</td>\n",
       "      <td>3</td>\n",
       "      <td>Braund, Mr. Owen Harris</td>\n",
       "      <td>male</td>\n",
       "      <td>22.0</td>\n",
       "      <td>1</td>\n",
       "      <td>0</td>\n",
       "      <td>A/5 21171</td>\n",
       "      <td>7.2500</td>\n",
       "      <td>NaN</td>\n",
       "      <td>S</td>\n",
       "    </tr>\n",
       "    <tr>\n",
       "      <th>1</th>\n",
       "      <td>2</td>\n",
       "      <td>1</td>\n",
       "      <td>1</td>\n",
       "      <td>Cumings, Mrs. John Bradley (Florence Briggs Th...</td>\n",
       "      <td>female</td>\n",
       "      <td>38.0</td>\n",
       "      <td>1</td>\n",
       "      <td>0</td>\n",
       "      <td>PC 17599</td>\n",
       "      <td>71.2833</td>\n",
       "      <td>C85</td>\n",
       "      <td>C</td>\n",
       "    </tr>\n",
       "    <tr>\n",
       "      <th>2</th>\n",
       "      <td>3</td>\n",
       "      <td>1</td>\n",
       "      <td>3</td>\n",
       "      <td>Heikkinen, Miss. Laina</td>\n",
       "      <td>female</td>\n",
       "      <td>26.0</td>\n",
       "      <td>0</td>\n",
       "      <td>0</td>\n",
       "      <td>STON/O2. 3101282</td>\n",
       "      <td>7.9250</td>\n",
       "      <td>NaN</td>\n",
       "      <td>S</td>\n",
       "    </tr>\n",
       "    <tr>\n",
       "      <th>3</th>\n",
       "      <td>4</td>\n",
       "      <td>1</td>\n",
       "      <td>1</td>\n",
       "      <td>Futrelle, Mrs. Jacques Heath (Lily May Peel)</td>\n",
       "      <td>female</td>\n",
       "      <td>35.0</td>\n",
       "      <td>1</td>\n",
       "      <td>0</td>\n",
       "      <td>113803</td>\n",
       "      <td>53.1000</td>\n",
       "      <td>C123</td>\n",
       "      <td>S</td>\n",
       "    </tr>\n",
       "    <tr>\n",
       "      <th>4</th>\n",
       "      <td>5</td>\n",
       "      <td>0</td>\n",
       "      <td>3</td>\n",
       "      <td>Allen, Mr. William Henry</td>\n",
       "      <td>male</td>\n",
       "      <td>35.0</td>\n",
       "      <td>0</td>\n",
       "      <td>0</td>\n",
       "      <td>373450</td>\n",
       "      <td>8.0500</td>\n",
       "      <td>NaN</td>\n",
       "      <td>S</td>\n",
       "    </tr>\n",
       "  </tbody>\n",
       "</table>\n",
       "</div>"
      ],
      "text/plain": [
       "   PassengerId  Survived  Pclass  \\\n",
       "0            1         0       3   \n",
       "1            2         1       1   \n",
       "2            3         1       3   \n",
       "3            4         1       1   \n",
       "4            5         0       3   \n",
       "\n",
       "                                                Name     Sex   Age  SibSp  \\\n",
       "0                            Braund, Mr. Owen Harris    male  22.0      1   \n",
       "1  Cumings, Mrs. John Bradley (Florence Briggs Th...  female  38.0      1   \n",
       "2                             Heikkinen, Miss. Laina  female  26.0      0   \n",
       "3       Futrelle, Mrs. Jacques Heath (Lily May Peel)  female  35.0      1   \n",
       "4                           Allen, Mr. William Henry    male  35.0      0   \n",
       "\n",
       "   Parch            Ticket     Fare Cabin Embarked  \n",
       "0      0         A/5 21171   7.2500   NaN        S  \n",
       "1      0          PC 17599  71.2833   C85        C  \n",
       "2      0  STON/O2. 3101282   7.9250   NaN        S  \n",
       "3      0            113803  53.1000  C123        S  \n",
       "4      0            373450   8.0500   NaN        S  "
      ]
     },
     "execution_count": 3,
     "metadata": {},
     "output_type": "execute_result"
    }
   ],
   "source": [
    "#X.shape = (891, 11)\n",
    "X_full.head()"
   ]
  },
  {
   "cell_type": "markdown",
   "id": "1071628b",
   "metadata": {
    "papermill": {
     "duration": 0.006333,
     "end_time": "2025-02-22T01:37:41.066934",
     "exception": false,
     "start_time": "2025-02-22T01:37:41.060601",
     "status": "completed"
    },
    "tags": []
   },
   "source": [
    "Variable\tDefinition\tKey\n",
    "\n",
    "survival\tSurvival\t0 = No, 1 = Yes\n",
    "\n",
    "pclass\tTicket class\t1 = 1st, 2 = 2nd, 3 = 3rd\n",
    "\n",
    "sex\tSex\t\n",
    "\n",
    "Age\tAge in years\t\n",
    "\n",
    "sibsp\t# of siblings / spouses aboard the Titanic\t\n",
    "\n",
    "parch\t# of parents / children aboard the Titanic\t\n",
    "\n",
    "ticket\tTicket number\t\n",
    "\n",
    "fare\tPassenger fare\t\n",
    "\n",
    "cabin\tCabin number\t\n",
    "\n",
    "embarked\tPort of Embarkation\tC = Cherbourg, Q = Queenstown, S = Southampton"
   ]
  },
  {
   "cell_type": "code",
   "execution_count": 4,
   "id": "ba75bd72",
   "metadata": {
    "execution": {
     "iopub.execute_input": "2025-02-22T01:37:41.081426Z",
     "iopub.status.busy": "2025-02-22T01:37:41.081098Z",
     "iopub.status.idle": "2025-02-22T01:37:41.085681Z",
     "shell.execute_reply": "2025-02-22T01:37:41.084630Z"
    },
    "papermill": {
     "duration": 0.013772,
     "end_time": "2025-02-22T01:37:41.087348",
     "exception": false,
     "start_time": "2025-02-22T01:37:41.073576",
     "status": "completed"
    },
    "tags": []
   },
   "outputs": [],
   "source": [
    "X = X_full.copy()"
   ]
  },
  {
   "cell_type": "code",
   "execution_count": 5,
   "id": "1d827c76",
   "metadata": {
    "execution": {
     "iopub.execute_input": "2025-02-22T01:37:41.102303Z",
     "iopub.status.busy": "2025-02-22T01:37:41.101808Z",
     "iopub.status.idle": "2025-02-22T01:37:41.108031Z",
     "shell.execute_reply": "2025-02-22T01:37:41.107148Z"
    },
    "papermill": {
     "duration": 0.015407,
     "end_time": "2025-02-22T01:37:41.109637",
     "exception": false,
     "start_time": "2025-02-22T01:37:41.094230",
     "status": "completed"
    },
    "tags": []
   },
   "outputs": [
    {
     "data": {
      "text/plain": [
       "(891,)"
      ]
     },
     "execution_count": 5,
     "metadata": {},
     "output_type": "execute_result"
    }
   ],
   "source": [
    "#There are 11 features in total - including passenger Id and target.\n",
    "#seperate target\n",
    "y = X.Survived\n",
    "y.shape"
   ]
  },
  {
   "cell_type": "code",
   "execution_count": 6,
   "id": "6bbf091d",
   "metadata": {
    "execution": {
     "iopub.execute_input": "2025-02-22T01:37:41.124735Z",
     "iopub.status.busy": "2025-02-22T01:37:41.124383Z",
     "iopub.status.idle": "2025-02-22T01:37:41.135677Z",
     "shell.execute_reply": "2025-02-22T01:37:41.134756Z"
    },
    "papermill": {
     "duration": 0.02057,
     "end_time": "2025-02-22T01:37:41.137236",
     "exception": false,
     "start_time": "2025-02-22T01:37:41.116666",
     "status": "completed"
    },
    "tags": []
   },
   "outputs": [],
   "source": [
    "X.drop('Survived', axis=1, inplace = True)"
   ]
  },
  {
   "cell_type": "code",
   "execution_count": 7,
   "id": "a4504e59",
   "metadata": {
    "execution": {
     "iopub.execute_input": "2025-02-22T01:37:41.152228Z",
     "iopub.status.busy": "2025-02-22T01:37:41.151875Z",
     "iopub.status.idle": "2025-02-22T01:37:41.157269Z",
     "shell.execute_reply": "2025-02-22T01:37:41.156272Z"
    },
    "papermill": {
     "duration": 0.014585,
     "end_time": "2025-02-22T01:37:41.158925",
     "exception": false,
     "start_time": "2025-02-22T01:37:41.144340",
     "status": "completed"
    },
    "tags": []
   },
   "outputs": [
    {
     "data": {
      "text/plain": [
       "(891, 11)"
      ]
     },
     "execution_count": 7,
     "metadata": {},
     "output_type": "execute_result"
    }
   ],
   "source": [
    "X.shape"
   ]
  },
  {
   "cell_type": "code",
   "execution_count": 8,
   "id": "cc510546",
   "metadata": {
    "execution": {
     "iopub.execute_input": "2025-02-22T01:37:41.174137Z",
     "iopub.status.busy": "2025-02-22T01:37:41.173784Z",
     "iopub.status.idle": "2025-02-22T01:37:42.709096Z",
     "shell.execute_reply": "2025-02-22T01:37:42.708102Z"
    },
    "papermill": {
     "duration": 1.545102,
     "end_time": "2025-02-22T01:37:42.711050",
     "exception": false,
     "start_time": "2025-02-22T01:37:41.165948",
     "status": "completed"
    },
    "tags": []
   },
   "outputs": [],
   "source": [
    "from sklearn.model_selection import train_test_split\n",
    "\n",
    "X_train_full, X_valid_full, y_train, y_valid = train_test_split ( X,y,train_size = 0.8, test_size=0.2, random_state =0)"
   ]
  },
  {
   "cell_type": "code",
   "execution_count": 9,
   "id": "5780d174",
   "metadata": {
    "execution": {
     "iopub.execute_input": "2025-02-22T01:37:42.729220Z",
     "iopub.status.busy": "2025-02-22T01:37:42.728656Z",
     "iopub.status.idle": "2025-02-22T01:37:42.741144Z",
     "shell.execute_reply": "2025-02-22T01:37:42.739970Z"
    },
    "papermill": {
     "duration": 0.023064,
     "end_time": "2025-02-22T01:37:42.742913",
     "exception": false,
     "start_time": "2025-02-22T01:37:42.719849",
     "status": "completed"
    },
    "tags": []
   },
   "outputs": [
    {
     "data": {
      "text/plain": [
       "PassengerId      0\n",
       "Pclass           0\n",
       "Name             0\n",
       "Sex              0\n",
       "Age            141\n",
       "SibSp            0\n",
       "Parch            0\n",
       "Ticket           0\n",
       "Fare             0\n",
       "Cabin          549\n",
       "Embarked         2\n",
       "dtype: int64"
      ]
     },
     "execution_count": 9,
     "metadata": {},
     "output_type": "execute_result"
    }
   ],
   "source": [
    "X_train_full.isna().sum()"
   ]
  },
  {
   "cell_type": "code",
   "execution_count": 10,
   "id": "7965e042",
   "metadata": {
    "execution": {
     "iopub.execute_input": "2025-02-22T01:37:42.758231Z",
     "iopub.status.busy": "2025-02-22T01:37:42.757875Z",
     "iopub.status.idle": "2025-02-22T01:37:42.763883Z",
     "shell.execute_reply": "2025-02-22T01:37:42.762917Z"
    },
    "papermill": {
     "duration": 0.015332,
     "end_time": "2025-02-22T01:37:42.765403",
     "exception": false,
     "start_time": "2025-02-22T01:37:42.750071",
     "status": "completed"
    },
    "tags": []
   },
   "outputs": [
    {
     "name": "stdout",
     "output_type": "stream",
     "text": [
      "['PassengerId', 'Pclass', 'Age', 'SibSp', 'Parch', 'Fare']\n"
     ]
    }
   ],
   "source": [
    "#select numerical columns\n",
    "\n",
    "numerical_cols = [cname for cname in X_train_full.columns if X_train_full[cname].dtype in ['int64','float64']]\n",
    "print(numerical_cols)"
   ]
  },
  {
   "cell_type": "code",
   "execution_count": 11,
   "id": "4f0cf7b7",
   "metadata": {
    "execution": {
     "iopub.execute_input": "2025-02-22T01:37:42.782852Z",
     "iopub.status.busy": "2025-02-22T01:37:42.782511Z",
     "iopub.status.idle": "2025-02-22T01:37:42.794668Z",
     "shell.execute_reply": "2025-02-22T01:37:42.793558Z"
    },
    "papermill": {
     "duration": 0.022597,
     "end_time": "2025-02-22T01:37:42.796829",
     "exception": false,
     "start_time": "2025-02-22T01:37:42.774232",
     "status": "completed"
    },
    "tags": []
   },
   "outputs": [
    {
     "name": "stdout",
     "output_type": "stream",
     "text": [
      "['Sex', 'Embarked']\n"
     ]
    }
   ],
   "source": [
    "categorical_cols = [cname for cname in X_train_full.columns if X_train_full[cname].nunique() < 5 and X_train_full[cname].dtype =='object']\n",
    "print(categorical_cols)"
   ]
  },
  {
   "cell_type": "code",
   "execution_count": 12,
   "id": "65c30886",
   "metadata": {
    "execution": {
     "iopub.execute_input": "2025-02-22T01:37:42.812930Z",
     "iopub.status.busy": "2025-02-22T01:37:42.812587Z",
     "iopub.status.idle": "2025-02-22T01:37:42.820197Z",
     "shell.execute_reply": "2025-02-22T01:37:42.818836Z"
    },
    "papermill": {
     "duration": 0.018037,
     "end_time": "2025-02-22T01:37:42.822131",
     "exception": false,
     "start_time": "2025-02-22T01:37:42.804094",
     "status": "completed"
    },
    "tags": []
   },
   "outputs": [],
   "source": [
    "# cabin and Ticket features are dropped\n",
    "\n",
    "my_col = numerical_cols + categorical_cols\n",
    "X_train = X_train_full[my_col].copy()\n",
    "X_valid = X_valid_full[my_col].copy()"
   ]
  },
  {
   "cell_type": "code",
   "execution_count": 13,
   "id": "5ba137c2",
   "metadata": {
    "execution": {
     "iopub.execute_input": "2025-02-22T01:37:42.838026Z",
     "iopub.status.busy": "2025-02-22T01:37:42.837698Z",
     "iopub.status.idle": "2025-02-22T01:37:43.092043Z",
     "shell.execute_reply": "2025-02-22T01:37:43.090849Z"
    },
    "papermill": {
     "duration": 0.264305,
     "end_time": "2025-02-22T01:37:43.093957",
     "exception": false,
     "start_time": "2025-02-22T01:37:42.829652",
     "status": "completed"
    },
    "tags": []
   },
   "outputs": [],
   "source": [
    "# numerical Imputer \n",
    "from sklearn.impute import SimpleImputer\n",
    "\n",
    "numerical_imputer = SimpleImputer(strategy = 'mean')\n",
    "X_train_num = numerical_imputer.fit_transform(X_train[numerical_cols])\n",
    "X_valid_num = numerical_imputer.transform(X_valid[numerical_cols])\n",
    "\n",
    "# Convert Numpy array back to DataFrame\n",
    "X_train_num = pd.DataFrame(X_train_num, columns=numerical_cols, index=X_train_full.index)\n",
    "X_valid_num = pd.DataFrame(X_valid_num, columns=numerical_cols, index=X_valid_full.index)"
   ]
  },
  {
   "cell_type": "code",
   "execution_count": 14,
   "id": "5564fab2",
   "metadata": {
    "execution": {
     "iopub.execute_input": "2025-02-22T01:37:43.110181Z",
     "iopub.status.busy": "2025-02-22T01:37:43.109839Z",
     "iopub.status.idle": "2025-02-22T01:37:43.122295Z",
     "shell.execute_reply": "2025-02-22T01:37:43.121133Z"
    },
    "papermill": {
     "duration": 0.022757,
     "end_time": "2025-02-22T01:37:43.124076",
     "exception": false,
     "start_time": "2025-02-22T01:37:43.101319",
     "status": "completed"
    },
    "tags": []
   },
   "outputs": [],
   "source": [
    "# categorical Imputer\n",
    "\n",
    "categorical_imputer = SimpleImputer(strategy = 'most_frequent')\n",
    "\n",
    "X_train_cat = categorical_imputer.fit_transform(X_train[categorical_cols])\n",
    "X_valid_cat = categorical_imputer.transform(X_valid[categorical_cols])\n",
    "\n",
    "# Convert Numpy array back to DataFrame\n",
    "X_train_cat = pd.DataFrame(X_train_cat, columns=categorical_cols, index=X_train_full.index)\n",
    "X_valid_cat = pd.DataFrame(X_valid_cat, columns=categorical_cols, index=X_valid_full.index)"
   ]
  },
  {
   "cell_type": "code",
   "execution_count": 15,
   "id": "3f6e054e",
   "metadata": {
    "execution": {
     "iopub.execute_input": "2025-02-22T01:37:43.139793Z",
     "iopub.status.busy": "2025-02-22T01:37:43.139389Z",
     "iopub.status.idle": "2025-02-22T01:37:43.145459Z",
     "shell.execute_reply": "2025-02-22T01:37:43.144362Z"
    },
    "papermill": {
     "duration": 0.015891,
     "end_time": "2025-02-22T01:37:43.147195",
     "exception": false,
     "start_time": "2025-02-22T01:37:43.131304",
     "status": "completed"
    },
    "tags": []
   },
   "outputs": [],
   "source": [
    "X_train_imputed = pd.concat([X_train_num, X_train_cat] , axis=1)\n",
    "X_valid_imputed = pd.concat([X_valid_num, X_valid_cat] , axis=1)"
   ]
  },
  {
   "cell_type": "code",
   "execution_count": 16,
   "id": "06b59c72",
   "metadata": {
    "execution": {
     "iopub.execute_input": "2025-02-22T01:37:43.163201Z",
     "iopub.status.busy": "2025-02-22T01:37:43.162863Z",
     "iopub.status.idle": "2025-02-22T01:37:43.174702Z",
     "shell.execute_reply": "2025-02-22T01:37:43.173544Z"
    },
    "papermill": {
     "duration": 0.02205,
     "end_time": "2025-02-22T01:37:43.176742",
     "exception": false,
     "start_time": "2025-02-22T01:37:43.154692",
     "status": "completed"
    },
    "tags": []
   },
   "outputs": [],
   "source": [
    "#one hot encoding using pandas\n",
    "\n",
    "X_train_imputed = pd.get_dummies ( X_train_imputed)\n",
    "X_valid_imputed = pd.get_dummies ( X_valid_imputed)\n",
    "\n",
    "#X_train_imputed.shape = (712, 12)\n",
    "#X_valid_imputed.shape = (179, 11)\n",
    "\n",
    "#After one hot encoding , shape of train, valid, test may not be equal , therefore aligning has to be done\n",
    "\n",
    "X_train_imputed, X_valid_imputed = X_train_imputed.align(X_valid_imputed , join='left' ,axis =1 )\n",
    "\n",
    "#X_train_imputed.shape = (712, 12)\n",
    "#X_valid_imputed.shape = (179, 12)"
   ]
  },
  {
   "cell_type": "code",
   "execution_count": 17,
   "id": "3226e2e2",
   "metadata": {
    "execution": {
     "iopub.execute_input": "2025-02-22T01:37:43.192352Z",
     "iopub.status.busy": "2025-02-22T01:37:43.191971Z",
     "iopub.status.idle": "2025-02-22T01:37:43.197251Z",
     "shell.execute_reply": "2025-02-22T01:37:43.196160Z"
    },
    "papermill": {
     "duration": 0.014889,
     "end_time": "2025-02-22T01:37:43.198868",
     "exception": false,
     "start_time": "2025-02-22T01:37:43.183979",
     "status": "completed"
    },
    "tags": []
   },
   "outputs": [],
   "source": [
    "# Label encoding for categoricals\n",
    "for colname in X_train_imputed.select_dtypes(\"object\"):\n",
    "    X[colname], _ = X_train_imputed[colname].factorize()\n",
    "\n",
    "# All discrete features should now have integer dtypes (double-check this before using MI!)\n",
    "discrete_features = X_train_imputed.dtypes == int"
   ]
  },
  {
   "cell_type": "markdown",
   "id": "d1d4f142",
   "metadata": {
    "papermill": {
     "duration": 0.00743,
     "end_time": "2025-02-22T01:37:43.213570",
     "exception": false,
     "start_time": "2025-02-22T01:37:43.206140",
     "status": "completed"
    },
    "tags": []
   },
   "source": [
    "Visualize mutual info to understand the data better"
   ]
  },
  {
   "cell_type": "code",
   "execution_count": 18,
   "id": "aaa7ad99",
   "metadata": {
    "execution": {
     "iopub.execute_input": "2025-02-22T01:37:43.229128Z",
     "iopub.status.busy": "2025-02-22T01:37:43.228747Z",
     "iopub.status.idle": "2025-02-22T01:37:43.322238Z",
     "shell.execute_reply": "2025-02-22T01:37:43.321014Z"
    },
    "papermill": {
     "duration": 0.103464,
     "end_time": "2025-02-22T01:37:43.324160",
     "exception": false,
     "start_time": "2025-02-22T01:37:43.220696",
     "status": "completed"
    },
    "tags": []
   },
   "outputs": [
    {
     "data": {
      "text/plain": [
       "Sex_female     0.147432\n",
       "Sex_male       0.139875\n",
       "Fare           0.098412\n",
       "Pclass         0.045932\n",
       "Embarked_Q     0.032521\n",
       "Age            0.023939\n",
       "Parch          0.015414\n",
       "SibSp          0.000705\n",
       "PassengerId    0.000000\n",
       "Embarked_C     0.000000\n",
       "Embarked_S     0.000000\n",
       "Name: MI Scores, dtype: float64"
      ]
     },
     "execution_count": 18,
     "metadata": {},
     "output_type": "execute_result"
    }
   ],
   "source": [
    "from sklearn.feature_selection import mutual_info_regression\n",
    "\n",
    "def make_mi_scores(X, y, discrete_features):\n",
    "    mi_scores = mutual_info_regression(X, y, discrete_features=discrete_features)\n",
    "    mi_scores = pd.Series(mi_scores, name=\"MI Scores\", index=X.columns)\n",
    "    mi_scores = mi_scores.sort_values(ascending=False)\n",
    "    return mi_scores\n",
    "\n",
    "mi_scores = make_mi_scores(X_train_imputed, y_train, discrete_features)\n",
    "mi_scores  # show a few features with their MI scores"
   ]
  },
  {
   "cell_type": "code",
   "execution_count": 19,
   "id": "52548f8d",
   "metadata": {
    "execution": {
     "iopub.execute_input": "2025-02-22T01:37:43.339661Z",
     "iopub.status.busy": "2025-02-22T01:37:43.339252Z",
     "iopub.status.idle": "2025-02-22T01:37:43.686069Z",
     "shell.execute_reply": "2025-02-22T01:37:43.684940Z"
    },
    "papermill": {
     "duration": 0.356504,
     "end_time": "2025-02-22T01:37:43.687758",
     "exception": false,
     "start_time": "2025-02-22T01:37:43.331254",
     "status": "completed"
    },
    "tags": []
   },
   "outputs": [
    {
     "data": {
      "image/png": "[encoded data removed]",
      "text/plain": [
       "<Figure size 800x500 with 1 Axes>"
      ]
     },
     "metadata": {},
     "output_type": "display_data"
    }
   ],
   "source": [
    "import matplotlib.pyplot as plt\n",
    "\n",
    "def plot_mi_scores(scores):\n",
    "    scores = scores.sort_values(ascending=True)\n",
    "    width = np.arange(len(scores))\n",
    "    ticks = list(scores.index)\n",
    "    plt.barh(width, scores)\n",
    "    plt.yticks(width, ticks)\n",
    "    plt.title(\"Mutual Information Scores\")\n",
    "\n",
    "\n",
    "plt.figure(dpi=100, figsize=(8, 5))\n",
    "plot_mi_scores(mi_scores)"
   ]
  },
  {
   "cell_type": "markdown",
   "id": "0b4f3e71",
   "metadata": {
    "papermill": {
     "duration": 0.007457,
     "end_time": "2025-02-22T01:37:43.703234",
     "exception": false,
     "start_time": "2025-02-22T01:37:43.695777",
     "status": "completed"
    },
    "tags": []
   },
   "source": [
    "Looks like Sex plays a major role in determining whether the passenger has survived or not"
   ]
  },
  {
   "cell_type": "code",
   "execution_count": 20,
   "id": "6027da47",
   "metadata": {
    "execution": {
     "iopub.execute_input": "2025-02-22T01:37:43.720076Z",
     "iopub.status.busy": "2025-02-22T01:37:43.719742Z",
     "iopub.status.idle": "2025-02-22T01:37:44.949549Z",
     "shell.execute_reply": "2025-02-22T01:37:44.948433Z"
    },
    "papermill": {
     "duration": 1.240314,
     "end_time": "2025-02-22T01:37:44.951360",
     "exception": false,
     "start_time": "2025-02-22T01:37:43.711046",
     "status": "completed"
    },
    "tags": []
   },
   "outputs": [
    {
     "data": {
      "image/png": "[encoded data removed]",
      "text/plain": [
       "<Figure size 598x500 with 1 Axes>"
      ]
     },
     "metadata": {},
     "output_type": "display_data"
    }
   ],
   "source": [
    "import seaborn as sns\n",
    "\n",
    "sns.relplot(x=\"Age\", y=\"Survived\",hue='Sex', data=X_full);"
   ]
  },
  {
   "cell_type": "markdown",
   "id": "e785fda5",
   "metadata": {
    "papermill": {
     "duration": 0.008214,
     "end_time": "2025-02-22T01:37:44.968182",
     "exception": false,
     "start_time": "2025-02-22T01:37:44.959968",
     "status": "completed"
    },
    "tags": []
   },
   "source": [
    "From the above diagram , it can be visualized that more female passengers have survived than male"
   ]
  },
  {
   "cell_type": "code",
   "execution_count": 21,
   "id": "48db8141",
   "metadata": {
    "execution": {
     "iopub.execute_input": "2025-02-22T01:37:44.986472Z",
     "iopub.status.busy": "2025-02-22T01:37:44.985949Z",
     "iopub.status.idle": "2025-02-22T01:37:44.999676Z",
     "shell.execute_reply": "2025-02-22T01:37:44.998661Z"
    },
    "papermill": {
     "duration": 0.024819,
     "end_time": "2025-02-22T01:37:45.001466",
     "exception": false,
     "start_time": "2025-02-22T01:37:44.976647",
     "status": "completed"
    },
    "tags": []
   },
   "outputs": [
    {
     "data": {
      "text/html": [
       "<div>\n",
       "<style scoped>\n",
       "    .dataframe tbody tr th:only-of-type {\n",
       "        vertical-align: middle;\n",
       "    }\n",
       "\n",
       "    .dataframe tbody tr th {\n",
       "        vertical-align: top;\n",
       "    }\n",
       "\n",
       "    .dataframe thead th {\n",
       "        text-align: right;\n",
       "    }\n",
       "</style>\n",
       "<table border=\"1\" class=\"dataframe\">\n",
       "  <thead>\n",
       "    <tr style=\"text-align: right;\">\n",
       "      <th></th>\n",
       "      <th>PassengerId</th>\n",
       "      <th>Pclass</th>\n",
       "      <th>Name</th>\n",
       "      <th>Sex</th>\n",
       "      <th>Age</th>\n",
       "      <th>SibSp</th>\n",
       "      <th>Parch</th>\n",
       "      <th>Ticket</th>\n",
       "      <th>Fare</th>\n",
       "      <th>Cabin</th>\n",
       "      <th>Embarked</th>\n",
       "    </tr>\n",
       "  </thead>\n",
       "  <tbody>\n",
       "    <tr>\n",
       "      <th>0</th>\n",
       "      <td>892</td>\n",
       "      <td>3</td>\n",
       "      <td>Kelly, Mr. James</td>\n",
       "      <td>male</td>\n",
       "      <td>34.5</td>\n",
       "      <td>0</td>\n",
       "      <td>0</td>\n",
       "      <td>330911</td>\n",
       "      <td>7.8292</td>\n",
       "      <td>NaN</td>\n",
       "      <td>Q</td>\n",
       "    </tr>\n",
       "    <tr>\n",
       "      <th>1</th>\n",
       "      <td>893</td>\n",
       "      <td>3</td>\n",
       "      <td>Wilkes, Mrs. James (Ellen Needs)</td>\n",
       "      <td>female</td>\n",
       "      <td>47.0</td>\n",
       "      <td>1</td>\n",
       "      <td>0</td>\n",
       "      <td>363272</td>\n",
       "      <td>7.0000</td>\n",
       "      <td>NaN</td>\n",
       "      <td>S</td>\n",
       "    </tr>\n",
       "    <tr>\n",
       "      <th>2</th>\n",
       "      <td>894</td>\n",
       "      <td>2</td>\n",
       "      <td>Myles, Mr. Thomas Francis</td>\n",
       "      <td>male</td>\n",
       "      <td>62.0</td>\n",
       "      <td>0</td>\n",
       "      <td>0</td>\n",
       "      <td>240276</td>\n",
       "      <td>9.6875</td>\n",
       "      <td>NaN</td>\n",
       "      <td>Q</td>\n",
       "    </tr>\n",
       "    <tr>\n",
       "      <th>3</th>\n",
       "      <td>895</td>\n",
       "      <td>3</td>\n",
       "      <td>Wirz, Mr. Albert</td>\n",
       "      <td>male</td>\n",
       "      <td>27.0</td>\n",
       "      <td>0</td>\n",
       "      <td>0</td>\n",
       "      <td>315154</td>\n",
       "      <td>8.6625</td>\n",
       "      <td>NaN</td>\n",
       "      <td>S</td>\n",
       "    </tr>\n",
       "    <tr>\n",
       "      <th>4</th>\n",
       "      <td>896</td>\n",
       "      <td>3</td>\n",
       "      <td>Hirvonen, Mrs. Alexander (Helga E Lindqvist)</td>\n",
       "      <td>female</td>\n",
       "      <td>22.0</td>\n",
       "      <td>1</td>\n",
       "      <td>1</td>\n",
       "      <td>3101298</td>\n",
       "      <td>12.2875</td>\n",
       "      <td>NaN</td>\n",
       "      <td>S</td>\n",
       "    </tr>\n",
       "  </tbody>\n",
       "</table>\n",
       "</div>"
      ],
      "text/plain": [
       "   PassengerId  Pclass                                          Name     Sex  \\\n",
       "0          892       3                              Kelly, Mr. James    male   \n",
       "1          893       3              Wilkes, Mrs. James (Ellen Needs)  female   \n",
       "2          894       2                     Myles, Mr. Thomas Francis    male   \n",
       "3          895       3                              Wirz, Mr. Albert    male   \n",
       "4          896       3  Hirvonen, Mrs. Alexander (Helga E Lindqvist)  female   \n",
       "\n",
       "    Age  SibSp  Parch   Ticket     Fare Cabin Embarked  \n",
       "0  34.5      0      0   330911   7.8292   NaN        Q  \n",
       "1  47.0      1      0   363272   7.0000   NaN        S  \n",
       "2  62.0      0      0   240276   9.6875   NaN        Q  \n",
       "3  27.0      0      0   315154   8.6625   NaN        S  \n",
       "4  22.0      1      1  3101298  12.2875   NaN        S  "
      ]
     },
     "execution_count": 21,
     "metadata": {},
     "output_type": "execute_result"
    }
   ],
   "source": [
    "X_test.head()"
   ]
  },
  {
   "cell_type": "code",
   "execution_count": 22,
   "id": "d3d7086d",
   "metadata": {
    "execution": {
     "iopub.execute_input": "2025-02-22T01:37:45.020977Z",
     "iopub.status.busy": "2025-02-22T01:37:45.020629Z",
     "iopub.status.idle": "2025-02-22T01:37:45.035144Z",
     "shell.execute_reply": "2025-02-22T01:37:45.034087Z"
    },
    "papermill": {
     "duration": 0.026501,
     "end_time": "2025-02-22T01:37:45.037114",
     "exception": false,
     "start_time": "2025-02-22T01:37:45.010613",
     "status": "completed"
    },
    "tags": []
   },
   "outputs": [],
   "source": [
    "# Apply imputation to X_test\n",
    "X_test_num = numerical_imputer.transform(X_test[numerical_cols])\n",
    "X_test_num = pd.DataFrame(X_test_num, columns=numerical_cols, index=X_test.index)\n",
    "\n",
    "X_test_cat = categorical_imputer.transform(X_test[categorical_cols])\n",
    "X_test_cat = pd.DataFrame(X_test_cat, columns=categorical_cols, index=X_test.index)\n",
    "\n",
    "X_test_imputed = pd.concat([X_test_num, X_test_cat], axis=1)\n",
    "\n",
    "# One-hot encoding\n",
    "X_test_imputed = pd.get_dummies(X_test_imputed)\n",
    "\n",
    "# Align test set with train set\n",
    "X_train_imputed, X_test_imputed = X_train_imputed.align(X_test_imputed, join='left', axis=1)\n"
   ]
  },
  {
   "cell_type": "code",
   "execution_count": 23,
   "id": "2dec981a",
   "metadata": {
    "execution": {
     "iopub.execute_input": "2025-02-22T01:37:45.056040Z",
     "iopub.status.busy": "2025-02-22T01:37:45.055680Z",
     "iopub.status.idle": "2025-02-22T01:37:45.064334Z",
     "shell.execute_reply": "2025-02-22T01:37:45.063312Z"
    },
    "papermill": {
     "duration": 0.020072,
     "end_time": "2025-02-22T01:37:45.066080",
     "exception": false,
     "start_time": "2025-02-22T01:37:45.046008",
     "status": "completed"
    },
    "tags": []
   },
   "outputs": [
    {
     "data": {
      "text/plain": [
       "PassengerId    0\n",
       "Pclass         0\n",
       "Age            0\n",
       "SibSp          0\n",
       "Parch          0\n",
       "Fare           0\n",
       "Sex_female     0\n",
       "Sex_male       0\n",
       "Embarked_C     0\n",
       "Embarked_Q     0\n",
       "Embarked_S     0\n",
       "dtype: int64"
      ]
     },
     "execution_count": 23,
     "metadata": {},
     "output_type": "execute_result"
    }
   ],
   "source": [
    "X_test_imputed.isna().sum()"
   ]
  },
  {
   "cell_type": "code",
   "execution_count": 24,
   "id": "08522e76",
   "metadata": {
    "execution": {
     "iopub.execute_input": "2025-02-22T01:37:45.086106Z",
     "iopub.status.busy": "2025-02-22T01:37:45.085759Z",
     "iopub.status.idle": "2025-02-22T01:37:45.100900Z",
     "shell.execute_reply": "2025-02-22T01:37:45.099997Z"
    },
    "papermill": {
     "duration": 0.027399,
     "end_time": "2025-02-22T01:37:45.102836",
     "exception": false,
     "start_time": "2025-02-22T01:37:45.075437",
     "status": "completed"
    },
    "tags": []
   },
   "outputs": [],
   "source": [
    "from sklearn.preprocessing import StandardScaler\n",
    "\n",
    "scaler = StandardScaler()\n",
    "X_train_scaled = scaler.fit_transform(X_train_imputed)\n",
    "X_valid_scaled = scaler.fit_transform(X_valid_imputed)\n",
    "X_test_scaled = scaler.fit_transform(X_test_imputed)"
   ]
  },
  {
   "cell_type": "code",
   "execution_count": 25,
   "id": "2524bcca",
   "metadata": {
    "execution": {
     "iopub.execute_input": "2025-02-22T01:37:45.122549Z",
     "iopub.status.busy": "2025-02-22T01:37:45.122135Z",
     "iopub.status.idle": "2025-02-22T01:37:45.476588Z",
     "shell.execute_reply": "2025-02-22T01:37:45.475471Z"
    },
    "papermill": {
     "duration": 0.366295,
     "end_time": "2025-02-22T01:37:45.478306",
     "exception": false,
     "start_time": "2025-02-22T01:37:45.112011",
     "status": "completed"
    },
    "tags": []
   },
   "outputs": [
    {
     "name": "stderr",
     "output_type": "stream",
     "text": [
      "/usr/local/lib/python3.10/dist-packages/xgboost/sklearn.py:889: UserWarning: `early_stopping_rounds` in `fit` method is deprecated for better compatibility with scikit-learn, use `early_stopping_rounds` in constructor or`set_params` instead.\n",
      "  warnings.warn(\n"
     ]
    },
    {
     "data": {
      "text/html": [
       "<style>#sk-container-id-1 {color: black;background-color: white;}#sk-container-id-1 pre{padding: 0;}#sk-container-id-1 div.sk-toggleable {background-color: white;}#sk-container-id-1 label.sk-toggleable__label {cursor: pointer;display: block;width: 100%;margin-bottom: 0;padding: 0.3em;box-sizing: border-box;text-align: center;}#sk-container-id-1 label.sk-toggleable__label-arrow:before {content: \"▸\";float: left;margin-right: 0.25em;color: #696969;}#sk-container-id-1 label.sk-toggleable__label-arrow:hover:before {color: black;}#sk-container-id-1 div.sk-estimator:hover label.sk-toggleable__label-arrow:before {color: black;}#sk-container-id-1 div.sk-toggleable__content {max-height: 0;max-width: 0;overflow: hidden;text-align: left;background-color: #f0f8ff;}#sk-container-id-1 div.sk-toggleable__content pre {margin: 0.2em;color: black;border-radius: 0.25em;background-color: #f0f8ff;}#sk-container-id-1 input.sk-toggleable__control:checked~div.sk-toggleable__content {max-height: 200px;max-width: 100%;overflow: auto;}#sk-container-id-1 input.sk-toggleable__control:checked~label.sk-toggleable__label-arrow:before {content: \"▾\";}#sk-container-id-1 div.sk-estimator input.sk-toggleable__control:checked~label.sk-toggleable__label {background-color: #d4ebff;}#sk-container-id-1 div.sk-label input.sk-toggleable__control:checked~label.sk-toggleable__label {background-color: #d4ebff;}#sk-container-id-1 input.sk-hidden--visually {border: 0;clip: rect(1px 1px 1px 1px);clip: rect(1px, 1px, 1px, 1px);height: 1px;margin: -1px;overflow: hidden;padding: 0;position: absolute;width: 1px;}#sk-container-id-1 div.sk-estimator {font-family: monospace;background-color: #f0f8ff;border: 1px dotted black;border-radius: 0.25em;box-sizing: border-box;margin-bottom: 0.5em;}#sk-container-id-1 div.sk-estimator:hover {background-color: #d4ebff;}#sk-container-id-1 div.sk-parallel-item::after {content: \"\";width: 100%;border-bottom: 1px solid gray;flex-grow: 1;}#sk-container-id-1 div.sk-label:hover label.sk-toggleable__label {background-color: #d4ebff;}#sk-container-id-1 div.sk-serial::before {content: \"\";position: absolute;border-left: 1px solid gray;box-sizing: border-box;top: 0;bottom: 0;left: 50%;z-index: 0;}#sk-container-id-1 div.sk-serial {display: flex;flex-direction: column;align-items: center;background-color: white;padding-right: 0.2em;padding-left: 0.2em;position: relative;}#sk-container-id-1 div.sk-item {position: relative;z-index: 1;}#sk-container-id-1 div.sk-parallel {display: flex;align-items: stretch;justify-content: center;background-color: white;position: relative;}#sk-container-id-1 div.sk-item::before, #sk-container-id-1 div.sk-parallel-item::before {content: \"\";position: absolute;border-left: 1px solid gray;box-sizing: border-box;top: 0;bottom: 0;left: 50%;z-index: -1;}#sk-container-id-1 div.sk-parallel-item {display: flex;flex-direction: column;z-index: 1;position: relative;background-color: white;}#sk-container-id-1 div.sk-parallel-item:first-child::after {align-self: flex-end;width: 50%;}#sk-container-id-1 div.sk-parallel-item:last-child::after {align-self: flex-start;width: 50%;}#sk-container-id-1 div.sk-parallel-item:only-child::after {width: 0;}#sk-container-id-1 div.sk-dashed-wrapped {border: 1px dashed gray;margin: 0 0.4em 0.5em 0.4em;box-sizing: border-box;padding-bottom: 0.4em;background-color: white;}#sk-container-id-1 div.sk-label label {font-family: monospace;font-weight: bold;display: inline-block;line-height: 1.2em;}#sk-container-id-1 div.sk-label-container {text-align: center;}#sk-container-id-1 div.sk-container {/* jupyter's `normalize.less` sets `[hidden] { display: none; }` but bootstrap.min.css set `[hidden] { display: none !important; }` so we also need the `!important` here to be able to override the default hidden behavior on the sphinx rendered scikit-learn.org. See: https://github.com/scikit-learn/scikit-learn/issues/21755 */display: inline-block !important;position: relative;}#sk-container-id-1 div.sk-text-repr-fallback {display: none;}</style><div id=\"sk-container-id-1\" class=\"sk-top-container\"><div class=\"sk-text-repr-fallback\"><pre>XGBClassifier(base_score=None, booster=None, callbacks=None,\n",
       "              colsample_bylevel=None, colsample_bynode=None,\n",
       "              colsample_bytree=None, device=None, early_stopping_rounds=None,\n",
       "              enable_categorical=False, eval_metric=None, feature_types=None,\n",
       "              gamma=None, grow_policy=None, importance_type=None,\n",
       "              interaction_constraints=None, learning_rate=0.15, max_bin=None,\n",
       "              max_cat_threshold=None, max_cat_to_onehot=None,\n",
       "              max_delta_step=None, max_depth=6, max_leaves=None,\n",
       "              min_child_weight=None, missing=nan, monotone_constraints=None,\n",
       "              multi_strategy=None, n_estimators=1000, n_jobs=4,\n",
       "              num_parallel_tree=None, random_state=None, ...)</pre><b>In a Jupyter environment, please rerun this cell to show the HTML representation or trust the notebook. <br />On GitHub, the HTML representation is unable to render, please try loading this page with nbviewer.org.</b></div><div class=\"sk-container\" hidden><div class=\"sk-item\"><div class=\"sk-estimator sk-toggleable\"><input class=\"sk-toggleable__control sk-hidden--visually\" id=\"sk-estimator-id-1\" type=\"checkbox\" checked><label for=\"sk-estimator-id-1\" class=\"sk-toggleable__label sk-toggleable__label-arrow\">XGBClassifier</label><div class=\"sk-toggleable__content\"><pre>XGBClassifier(base_score=None, booster=None, callbacks=None,\n",
       "              colsample_bylevel=None, colsample_bynode=None,\n",
       "              colsample_bytree=None, device=None, early_stopping_rounds=None,\n",
       "              enable_categorical=False, eval_metric=None, feature_types=None,\n",
       "              gamma=None, grow_policy=None, importance_type=None,\n",
       "              interaction_constraints=None, learning_rate=0.15, max_bin=None,\n",
       "              max_cat_threshold=None, max_cat_to_onehot=None,\n",
       "              max_delta_step=None, max_depth=6, max_leaves=None,\n",
       "              min_child_weight=None, missing=nan, monotone_constraints=None,\n",
       "              multi_strategy=None, n_estimators=1000, n_jobs=4,\n",
       "              num_parallel_tree=None, random_state=None, ...)</pre></div></div></div></div></div>"
      ],
      "text/plain": [
       "XGBClassifier(base_score=None, booster=None, callbacks=None,\n",
       "              colsample_bylevel=None, colsample_bynode=None,\n",
       "              colsample_bytree=None, device=None, early_stopping_rounds=None,\n",
       "              enable_categorical=False, eval_metric=None, feature_types=None,\n",
       "              gamma=None, grow_policy=None, importance_type=None,\n",
       "              interaction_constraints=None, learning_rate=0.15, max_bin=None,\n",
       "              max_cat_threshold=None, max_cat_to_onehot=None,\n",
       "              max_delta_step=None, max_depth=6, max_leaves=None,\n",
       "              min_child_weight=None, missing=nan, monotone_constraints=None,\n",
       "              multi_strategy=None, n_estimators=1000, n_jobs=4,\n",
       "              num_parallel_tree=None, random_state=None, ...)"
      ]
     },
     "execution_count": 25,
     "metadata": {},
     "output_type": "execute_result"
    }
   ],
   "source": [
    "from xgboost import XGBClassifier\n",
    "\n",
    "my_model = XGBClassifier(n_estimators = 1000, learning_rate = 0.15, n_jobs=4, max_depth=6)\n",
    "\n",
    "my_model.fit(X_train_scaled,y_train, early_stopping_rounds=8, eval_set =[(X_valid_scaled,y_valid)], verbose = False)"
   ]
  },
  {
   "cell_type": "code",
   "execution_count": 26,
   "id": "15964261",
   "metadata": {
    "execution": {
     "iopub.execute_input": "2025-02-22T01:37:45.498323Z",
     "iopub.status.busy": "2025-02-22T01:37:45.497945Z",
     "iopub.status.idle": "2025-02-22T01:37:45.504028Z",
     "shell.execute_reply": "2025-02-22T01:37:45.503193Z"
    },
    "papermill": {
     "duration": 0.018385,
     "end_time": "2025-02-22T01:37:45.506091",
     "exception": false,
     "start_time": "2025-02-22T01:37:45.487706",
     "status": "completed"
    },
    "tags": []
   },
   "outputs": [],
   "source": [
    "prediction_valid = my_model.predict(X_valid_scaled)"
   ]
  },
  {
   "cell_type": "code",
   "execution_count": 27,
   "id": "1c22ce2f",
   "metadata": {
    "execution": {
     "iopub.execute_input": "2025-02-22T01:37:45.529005Z",
     "iopub.status.busy": "2025-02-22T01:37:45.528684Z",
     "iopub.status.idle": "2025-02-22T01:37:45.535481Z",
     "shell.execute_reply": "2025-02-22T01:37:45.534213Z"
    },
    "papermill": {
     "duration": 0.019407,
     "end_time": "2025-02-22T01:37:45.537118",
     "exception": false,
     "start_time": "2025-02-22T01:37:45.517711",
     "status": "completed"
    },
    "tags": []
   },
   "outputs": [
    {
     "name": "stdout",
     "output_type": "stream",
     "text": [
      "0.30726256983240224\n",
      "0.30726256983240224\n"
     ]
    }
   ],
   "source": [
    "from sklearn.metrics import mean_absolute_error, mean_squared_error\n",
    "\n",
    "mae = mean_absolute_error(prediction_valid, y_valid)\n",
    "mse = mean_squared_error(prediction_valid, y_valid)\n",
    "\n",
    "print(mae)\n",
    "print(mse)"
   ]
  },
  {
   "cell_type": "code",
   "execution_count": 28,
   "id": "7f56feb1",
   "metadata": {
    "execution": {
     "iopub.execute_input": "2025-02-22T01:37:45.557367Z",
     "iopub.status.busy": "2025-02-22T01:37:45.556996Z",
     "iopub.status.idle": "2025-02-22T01:37:45.562863Z",
     "shell.execute_reply": "2025-02-22T01:37:45.562050Z"
    },
    "papermill": {
     "duration": 0.018535,
     "end_time": "2025-02-22T01:37:45.564952",
     "exception": false,
     "start_time": "2025-02-22T01:37:45.546417",
     "status": "completed"
    },
    "tags": []
   },
   "outputs": [],
   "source": [
    "prediction = my_model.predict(X_test_scaled)"
   ]
  },
  {
   "cell_type": "code",
   "execution_count": 29,
   "id": "c5a22b30",
   "metadata": {
    "execution": {
     "iopub.execute_input": "2025-02-22T01:37:45.589102Z",
     "iopub.status.busy": "2025-02-22T01:37:45.588731Z",
     "iopub.status.idle": "2025-02-22T01:37:45.599979Z",
     "shell.execute_reply": "2025-02-22T01:37:45.599000Z"
    },
    "papermill": {
     "duration": 0.025179,
     "end_time": "2025-02-22T01:37:45.601974",
     "exception": false,
     "start_time": "2025-02-22T01:37:45.576795",
     "status": "completed"
    },
    "tags": []
   },
   "outputs": [],
   "source": [
    "output = pd.DataFrame({'PassengerId': X_test.PassengerId, 'Survived': prediction})\n",
    "output.to_csv('submission.csv', index=False)"
   ]
  },
  {
   "cell_type": "code",
   "execution_count": null,
   "id": "cf7e344d",
   "metadata": {
    "papermill": {
     "duration": 0.009058,
     "end_time": "2025-02-22T01:37:45.620640",
     "exception": false,
     "start_time": "2025-02-22T01:37:45.611582",
     "status": "completed"
    },
    "tags": []
   },
   "outputs": [],
   "source": []
  }
 ],
 "metadata": {
  "kaggle": {
   "accelerator": "none",
   "dataSources": [
    {
     "databundleVersionId": 26502,
     "sourceId": 3136,
     "sourceType": "competition"
    }
   ],
   "dockerImageVersionId": 30886,
   "isGpuEnabled": false,
   "isInternetEnabled": true,
   "language": "python",
   "sourceType": "notebook"
  },
  "kernelspec": {
   "display_name": "Python 3",
   "language": "python",
   "name": "python3"
  },
  "language_info": {
   "codemirror_mode": {
    "name": "ipython",
    "version": 3
   },
   "file_extension": ".py",
   "mimetype": "text/x-python",
   "name": "python",
   "nbconvert_exporter": "python",
   "pygments_lexer": "ipython3",
   "version": "3.10.12"
  },
  "papermill": {
   "default_parameters": {},
   "duration": 9.518388,
   "end_time": "2025-02-22T01:37:46.451795",
   "environment_variables": {},
   "exception": null,
   "input_path": "__notebook__.ipynb",
   "output_path": "__notebook__.ipynb",
   "parameters": {},
   "start_time": "2025-02-22T01:37:36.933407",
   "version": "2.6.0"
  }
 },
 "nbformat": 4,
 "nbformat_minor": 5
}
